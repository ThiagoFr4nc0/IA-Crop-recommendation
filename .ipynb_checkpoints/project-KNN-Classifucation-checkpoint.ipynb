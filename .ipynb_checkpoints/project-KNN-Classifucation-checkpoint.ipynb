{
 "cells": [
  {
   "cell_type": "markdown",
   "id": "e7a12cd5",
   "metadata": {},
   "source": [
    "# KNN Clasificatoin"
   ]
  },
  {
   "cell_type": "code",
   "execution_count": 2,
   "id": "dde4d7eb",
   "metadata": {},
   "outputs": [],
   "source": [
    "import pandas as pd\n",
    "import seaborn as sns\n",
    "import numpy as np\n",
    "import matplotlib.pyplot as plt\n",
    "from sklearn.metrics import accuracy_score,f1_score,mean_squared_error,mean_squared_error,PredictionErrorDisplay\n",
    "from sklearn.model_selection import StratifiedKFold , cross_val_score\n",
    "from sklearn.neighbors import KNeighborsClassifier ,KNeighborsRegressor\n",
    "from sklearn.metrics import ConfusionMatrixDisplay, confusion_matrix"
   ]
  },
  {
   "cell_type": "code",
   "execution_count": 3,
   "id": "4337dfc1",
   "metadata": {},
   "outputs": [
    {
     "name": "stdout",
     "output_type": "stream",
     "text": [
      "<class 'pandas.core.frame.DataFrame'>\n",
      "RangeIndex: 2200 entries, 0 to 2199\n",
      "Data columns (total 8 columns):\n",
      " #   Column       Non-Null Count  Dtype  \n",
      "---  ------       --------------  -----  \n",
      " 0   N            2200 non-null   int64  \n",
      " 1   P            2200 non-null   int64  \n",
      " 2   K            2200 non-null   int64  \n",
      " 3   temperature  2200 non-null   float64\n",
      " 4   humidity     2200 non-null   float64\n",
      " 5   ph           2200 non-null   float64\n",
      " 6   rainfall     2200 non-null   float64\n",
      " 7   label        2200 non-null   object \n",
      "dtypes: float64(4), int64(3), object(1)\n",
      "memory usage: 137.6+ KB\n"
     ]
    }
   ],
   "source": [
    "df = pd.read_csv('Crop_recommendation.csv')\n",
    "\n",
    "df.head()\n",
    "df.info()"
   ]
  },
  {
   "cell_type": "code",
   "execution_count": 40,
   "id": "19d3190f",
   "metadata": {},
   "outputs": [
    {
     "data": {
      "text/html": [
       "<div>\n",
       "<style scoped>\n",
       "    .dataframe tbody tr th:only-of-type {\n",
       "        vertical-align: middle;\n",
       "    }\n",
       "\n",
       "    .dataframe tbody tr th {\n",
       "        vertical-align: top;\n",
       "    }\n",
       "\n",
       "    .dataframe thead th {\n",
       "        text-align: right;\n",
       "    }\n",
       "</style>\n",
       "<table border=\"1\" class=\"dataframe\">\n",
       "  <thead>\n",
       "    <tr style=\"text-align: right;\">\n",
       "      <th></th>\n",
       "      <th>N</th>\n",
       "      <th>P</th>\n",
       "      <th>K</th>\n",
       "      <th>label</th>\n",
       "    </tr>\n",
       "  </thead>\n",
       "  <tbody>\n",
       "    <tr>\n",
       "      <th>0</th>\n",
       "      <td>90</td>\n",
       "      <td>42</td>\n",
       "      <td>43</td>\n",
       "      <td>rice</td>\n",
       "    </tr>\n",
       "    <tr>\n",
       "      <th>1</th>\n",
       "      <td>85</td>\n",
       "      <td>58</td>\n",
       "      <td>41</td>\n",
       "      <td>rice</td>\n",
       "    </tr>\n",
       "    <tr>\n",
       "      <th>2</th>\n",
       "      <td>60</td>\n",
       "      <td>55</td>\n",
       "      <td>44</td>\n",
       "      <td>rice</td>\n",
       "    </tr>\n",
       "    <tr>\n",
       "      <th>3</th>\n",
       "      <td>74</td>\n",
       "      <td>35</td>\n",
       "      <td>40</td>\n",
       "      <td>rice</td>\n",
       "    </tr>\n",
       "    <tr>\n",
       "      <th>4</th>\n",
       "      <td>78</td>\n",
       "      <td>42</td>\n",
       "      <td>42</td>\n",
       "      <td>rice</td>\n",
       "    </tr>\n",
       "  </tbody>\n",
       "</table>\n",
       "</div>"
      ],
      "text/plain": [
       "    N   P   K label\n",
       "0  90  42  43  rice\n",
       "1  85  58  41  rice\n",
       "2  60  55  44  rice\n",
       "3  74  35  40  rice\n",
       "4  78  42  42  rice"
      ]
     },
     "execution_count": 40,
     "metadata": {},
     "output_type": "execute_result"
    }
   ],
   "source": [
    "df_filter = df\n",
    "df_filter = df_filter.drop(columns=['temperature','humidity','ph','rainfall'])\n",
    "df_filter.head()"
   ]
  },
  {
   "cell_type": "code",
   "execution_count": 41,
   "id": "6ca757ab",
   "metadata": {},
   "outputs": [],
   "source": [
    "X = df_filter.drop(columns=['label'])\n",
    "y = df_filter['label']"
   ]
  },
  {
   "cell_type": "code",
   "execution_count": 44,
   "id": "037acb53",
   "metadata": {
    "scrolled": false
   },
   "outputs": [],
   "source": [
    "n_features = X.shape[1]\n",
    "feature_names = X.columns\n",
    "\n",
    "# Número de classes\n",
    "classes = y.unique()\n",
    "\n",
    "# Diferentes marcadores para cada classe\n",
    "markers = ['o', 's', 'D', '^', 'v', '<', '>', 'p', '*', 'H', 'X', 'd', '|', '_', '+', 'x', '1', '2', '3', '4', '.', ',', 'P']\n",
    "\n",
    "# Criar diretório para salvar as imagens (se necessário)\n",
    "import os\n",
    "output_dir = 'scatter_plots_bw'\n",
    "os.makedirs(output_dir, exist_ok=True)\n",
    "\n",
    "for i in range(n_features):\n",
    "    for j in range(n_features):\n",
    "        if i != j:\n",
    "            plt.figure(figsize=(8, 6))\n",
    "            for cls, marker in zip(classes, markers):\n",
    "                plt.scatter(X[y == cls].iloc[:, i], X[y == cls].iloc[:, j], marker=marker, label=f'{cls}', color='black')\n",
    "            plt.xlabel(feature_names[i])\n",
    "            plt.ylabel(feature_names[j])\n",
    "            plt.title(f'{feature_names[i]} vs {feature_names[j]}')\n",
    "            plt.legend(loc='center left', bbox_to_anchor=(1, 0.5))\n",
    "            plt.grid(True)\n",
    "            plt.savefig(os.path.join(output_dir, f'scatter_{feature_names[i]}_vs_{feature_names[j]}.png'), format='png', dpi=300, bbox_inches='tight')\n",
    "            plt.close()"
   ]
  },
  {
   "cell_type": "code",
   "execution_count": 20,
   "id": "fa9b9199",
   "metadata": {},
   "outputs": [],
   "source": [
    "clf = KNeighborsClassifier(n_neighbors=15)\n",
    "kf = StratifiedKFold(n_splits=10, shuffle=True)"
   ]
  },
  {
   "cell_type": "code",
   "execution_count": 21,
   "id": "21701a88",
   "metadata": {},
   "outputs": [
    {
     "name": "stdout",
     "output_type": "stream",
     "text": [
      "Acurácia no fold 1: 0.9333\n",
      "Acurácia no fold 2: 0.9750\n",
      "Acurácia no fold 3: 0.9667\n",
      "Acurácia no fold 4: 0.9750\n",
      "Acurácia no fold 5: 0.9833\n",
      "Acurácia no fold 6: 0.9750\n",
      "Acurácia no fold 7: 0.9500\n",
      "Acurácia no fold 8: 0.9750\n",
      "Acurácia no fold 9: 0.9667\n",
      "Acurácia no fold 10: 0.9917\n",
      "Média da acurácia nos folds: 0.9692\n"
     ]
    }
   ],
   "source": [
    "accuracies = []\n",
    "\n",
    "for fold, (train_index, test_index) in enumerate(kf.split(X, y)): \n",
    "    clf.fit(X.iloc[train_index], y.iloc[train_index])\n",
    "    pred = clf.predict(X.iloc[test_index])\n",
    "    accuracy = accuracy_score(y.iloc[test_index], pred)\n",
    "    accuracies.append(accuracy)\n",
    "    print(f'Acurácia no fold {fold + 1}: {accuracy:.4f}')\n",
    "\n",
    "# Calcular a média das acurácias\n",
    "mean_accuracy = np.mean(accuracies)\n",
    "print(f'Média da acurácia nos folds: {mean_accuracy:.4f}')"
   ]
  },
  {
   "cell_type": "code",
   "execution_count": 23,
   "id": "95588385",
   "metadata": {},
   "outputs": [
    {
     "name": "stdout",
     "output_type": "stream",
     "text": [
      "Acurácia no fold 1: 0.9750\n",
      "Acurácia no fold 2: 0.9500\n",
      "Acurácia no fold 3: 0.9833\n",
      "Acurácia no fold 4: 0.9583\n",
      "Acurácia no fold 5: 0.9750\n",
      "Acurácia no fold 6: 0.9833\n",
      "Acurácia no fold 7: 0.9833\n",
      "Acurácia no fold 8: 0.9750\n",
      "Acurácia no fold 9: 0.9667\n",
      "Acurácia no fold 10: 0.9333\n",
      "Média da acurácia nos folds: 0.9683\n"
     ]
    },
    {
     "data": {
      "image/png": "[encoded data removed]",
      "text/plain": [
       "<Figure size 1600x1300 with 2 Axes>"
      ]
     },
     "metadata": {},
     "output_type": "display_data"
    }
   ],
   "source": [
    "accuracies = []\n",
    "confusion_matrices = []  # Definindo a lista para armazenar as matrizes de confusão\n",
    "\n",
    "for fold, (train_index, test_index) in enumerate(kf.split(X, y)): \n",
    "    clf.fit(X.iloc[train_index], y.iloc[train_index])\n",
    "    pred = clf.predict(X.iloc[test_index])\n",
    "    accuracy = accuracy_score(y.iloc[test_index], pred)\n",
    "    accuracies.append(accuracy)\n",
    "    print(f'Acurácia no fold {fold + 1}: {accuracy:.4f}')\n",
    "\n",
    "    cm = confusion_matrix(y.iloc[test_index], pred)\n",
    "    confusion_matrices.append(cm)\n",
    "\n",
    "\n",
    "# Calcular a média das acurácias\n",
    "mean_accuracy = np.mean(accuracies)\n",
    "print(f'Média da acurácia nos folds: {mean_accuracy:.4f}')\n",
    "\n",
    "# Calcular a mediana da matriz de confusão\n",
    "confusion_matrices = np.array(confusion_matrices)\n",
    "median_confusion_matrix = np.median(confusion_matrices, axis=0)\n",
    "\n",
    "# Exibir a mediana da matriz de confusão\n",
    "fig, ax = plt.subplots(figsize=(16, 13))\n",
    "cmd = ConfusionMatrixDisplay(median_confusion_matrix, display_labels=clf.classes_)\n",
    "cmd.plot(ax=ax, cmap='gray')\n",
    "plt.title('Mediana das Matrizes de Confusão')\n",
    "plt.xlabel('Classe verdadeira')\n",
    "plt.ylabel('Classe prevista')\n",
    "plt.show()"
   ]
  },
  {
   "cell_type": "markdown",
   "id": "e1e7fddf",
   "metadata": {},
   "source": [
    "# KNN regression\n"
   ]
  },
  {
   "cell_type": "code",
   "execution_count": 44,
   "id": "b8ed2e1a",
   "metadata": {},
   "outputs": [
    {
     "data": {
      "text/html": [
       "<div>\n",
       "<style scoped>\n",
       "    .dataframe tbody tr th:only-of-type {\n",
       "        vertical-align: middle;\n",
       "    }\n",
       "\n",
       "    .dataframe tbody tr th {\n",
       "        vertical-align: top;\n",
       "    }\n",
       "\n",
       "    .dataframe thead th {\n",
       "        text-align: right;\n",
       "    }\n",
       "</style>\n",
       "<table border=\"1\" class=\"dataframe\">\n",
       "  <thead>\n",
       "    <tr style=\"text-align: right;\">\n",
       "      <th></th>\n",
       "      <th>N</th>\n",
       "      <th>P</th>\n",
       "      <th>K</th>\n",
       "      <th>temperature</th>\n",
       "      <th>humidity</th>\n",
       "      <th>ph</th>\n",
       "      <th>rainfall</th>\n",
       "      <th>label</th>\n",
       "    </tr>\n",
       "  </thead>\n",
       "  <tbody>\n",
       "    <tr>\n",
       "      <th>0</th>\n",
       "      <td>90</td>\n",
       "      <td>42</td>\n",
       "      <td>43</td>\n",
       "      <td>20.879744</td>\n",
       "      <td>82.002744</td>\n",
       "      <td>6.502985</td>\n",
       "      <td>202.935536</td>\n",
       "      <td>0</td>\n",
       "    </tr>\n",
       "    <tr>\n",
       "      <th>1</th>\n",
       "      <td>85</td>\n",
       "      <td>58</td>\n",
       "      <td>41</td>\n",
       "      <td>21.770462</td>\n",
       "      <td>80.319644</td>\n",
       "      <td>7.038096</td>\n",
       "      <td>226.655537</td>\n",
       "      <td>0</td>\n",
       "    </tr>\n",
       "    <tr>\n",
       "      <th>2</th>\n",
       "      <td>60</td>\n",
       "      <td>55</td>\n",
       "      <td>44</td>\n",
       "      <td>23.004459</td>\n",
       "      <td>82.320763</td>\n",
       "      <td>7.840207</td>\n",
       "      <td>263.964248</td>\n",
       "      <td>0</td>\n",
       "    </tr>\n",
       "    <tr>\n",
       "      <th>3</th>\n",
       "      <td>74</td>\n",
       "      <td>35</td>\n",
       "      <td>40</td>\n",
       "      <td>26.491096</td>\n",
       "      <td>80.158363</td>\n",
       "      <td>6.980401</td>\n",
       "      <td>242.864034</td>\n",
       "      <td>0</td>\n",
       "    </tr>\n",
       "    <tr>\n",
       "      <th>4</th>\n",
       "      <td>78</td>\n",
       "      <td>42</td>\n",
       "      <td>42</td>\n",
       "      <td>20.130175</td>\n",
       "      <td>81.604873</td>\n",
       "      <td>7.628473</td>\n",
       "      <td>262.717340</td>\n",
       "      <td>0</td>\n",
       "    </tr>\n",
       "  </tbody>\n",
       "</table>\n",
       "</div>"
      ],
      "text/plain": [
       "    N   P   K  temperature   humidity        ph    rainfall  label\n",
       "0  90  42  43    20.879744  82.002744  6.502985  202.935536      0\n",
       "1  85  58  41    21.770462  80.319644  7.038096  226.655537      0\n",
       "2  60  55  44    23.004459  82.320763  7.840207  263.964248      0\n",
       "3  74  35  40    26.491096  80.158363  6.980401  242.864034      0\n",
       "4  78  42  42    20.130175  81.604873  7.628473  262.717340      0"
      ]
     },
     "execution_count": 44,
     "metadata": {},
     "output_type": "execute_result"
    }
   ],
   "source": [
    "obj_columns = df.select_dtypes(['object']).columns\n",
    "df_filter[obj_columns] = df_filter[obj_columns].apply(lambda x: pd.factorize(x)[0])\n",
    "df_filter.describe()\n",
    "\n",
    "\n",
    "X = df_filter.to_numpy()\n",
    "y = df_filter.drop(columns = ['label']).to_numpy()\n",
    "df_filter.head()"
   ]
  },
  {
   "cell_type": "code",
   "execution_count": 52,
   "id": "d15c15a0",
   "metadata": {},
   "outputs": [],
   "source": [
    "clf = KNeighborsRegressor(n_neighbors=10)\n",
    "kf = StratifiedKFold(n_splits=10, shuffle=True)"
   ]
  },
  {
   "cell_type": "code",
   "execution_count": null,
   "id": "19540f99",
   "metadata": {
    "scrolled": false
   },
   "outputs": [],
   "source": [
    "\n",
    "for fold, (train, test) in enumerate(kf.split(X, y.argmax(1))): \n",
    "    clf.fit(X[train], y[train])    \n",
    "    y_pred = clf.predict(X[test])\n"
   ]
  },
  {
   "cell_type": "code",
   "execution_count": null,
   "id": "6aaf662f",
   "metadata": {},
   "outputs": [],
   "source": []
  },
  {
   "cell_type": "code",
   "execution_count": null,
   "id": "dea1f8c0",
   "metadata": {},
   "outputs": [],
   "source": [
    "clf.predict([[90,42,43,0]])"
   ]
  }
 ],
 "metadata": {
  "kernelspec": {
   "display_name": "Python 3 (ipykernel)",
   "language": "python",
   "name": "python3"
  },
  "language_info": {
   "codemirror_mode": {
    "name": "ipython",
    "version": 3
   },
   "file_extension": ".py",
   "mimetype": "text/x-python",
   "name": "python",
   "nbconvert_exporter": "python",
   "pygments_lexer": "ipython3",
   "version": "3.8.10"
  }
 },
 "nbformat": 4,
 "nbformat_minor": 5
}
